{
 "cells": [
  {
   "cell_type": "markdown",
   "id": "ce4b6b15",
   "metadata": {},
   "source": [
    "# ----------------------------------------------------------------------------\n",
    "\n",
    "# Magnetização X Temperatura\n",
    "\n",
    "# ----------------------------------------------------------------------------"
   ]
  },
  {
   "cell_type": "code",
   "execution_count": 37,
   "id": "e21e6294",
   "metadata": {},
   "outputs": [],
   "source": [
    "# import math\n",
    "import matplotlib.pyplot as plt\n",
    "import numpy as np\n",
    "\n",
    "\n",
    "kb = 0.086  # em meV/K\n",
    "mub = 0.05788  # em meV/T\n",
    "\n",
    "Bext = 0.01\n",
    "n = 1  # Número de íons por célula\n",
    "gj = 2  # Fator de landé\n",
    "j = 7 / 2  # Definindo número quântico j.\n",
    "p = 8  # Número de vizinhos próximos - n sei se ta certo\n",
    "Tc = 28 # Temperatura crítica\n",
    "Jo = (3*kb*Tc)/(2*p*((gj-1)**2)*j*(j+1)) # Parâmetro de troca\n",
    "Ms = n * gj * j * mub # Magnetização de saturação\n",
    "plambda = (3*kb*Tc)/(n*(mub**2)*((gj)**2)*j*(j+1)) # Intensidade do campo molecular\n",
    " \n",
    "\n",
    "# gdni4al\n",
    "\n",
    "Mo = Ms\n",
    "\n",
    "listaT = []\n",
    "listaM = []\n",
    "\n",
    "\n",
    "for T in np.arange(1,50,0.1):\n",
    "    y = (gj * mub * j * (plambda * Mo+Bext)) / (kb * T)\n",
    "    M = Ms * (((2 * j + 1) / (2 * j)) * (1 / (math.tanh(((2 * j + 1) / (2 * j)) * y))) - (1 / (2 * j)) * (\n",
    "                1 / math.tanh(y / (2 * j))))\n",
    "    while abs(M - Mo) > 10e-5:\n",
    "        Mo = M\n",
    "        y = (gj * mub * j * (plambda * Mo + Bext)) / (kb * T)\n",
    "        M = Ms * (((2 * j + 1) / (2 * j)) * (1 / (math.tanh(((2 * j + 1) / (2 * j)) * y))) - (1 / (2 * j)) * (\n",
    "                    1 / math.tanh(y / (2 * j))))\n",
    "    listaM.append(M/mub)\n",
    "    listaT.append(T)"
   ]
  },
  {
   "cell_type": "code",
   "execution_count": 40,
   "id": "a26ed714",
   "metadata": {
    "scrolled": true
   },
   "outputs": [
    {
     "data": {
      "image/png": "[encoded data removed]",
      "text/plain": [
       "<Figure size 432x288 with 1 Axes>"
      ]
     },
     "metadata": {
      "needs_background": "light"
     },
     "output_type": "display_data"
    }
   ],
   "source": [
    "plt.plot(listaT,listaM)\n",
    "plt.show()"
   ]
  },
  {
   "cell_type": "markdown",
   "id": "3504a41a",
   "metadata": {},
   "source": [
    "# ----------------------------------------------------------------------------\n",
    "\n",
    "# Magnetização X Campo externo\n",
    "\n",
    "# ----------------------------------------------------------------------------"
   ]
  },
  {
   "cell_type": "code",
   "execution_count": 41,
   "id": "29bfc2b6",
   "metadata": {},
   "outputs": [],
   "source": [
    "listaBext = []\n",
    "listaM = []\n",
    "\n",
    "T = 70 # definindo a temperatura da isoterma\n",
    "\n",
    "for Bext in np.arange(0, 9,0.1):\n",
    "    y = (gj * mub * j * (plambda * Mo+Bext)) / (kb * T)\n",
    "    M2 = Ms * (((2 * j + 1) / (2 * j)) * (1 / (math.tanh(((2 * j + 1) / (2 * j)) * y))) - (1 / (2 * j)) * (\n",
    "                1 / math.tanh(y / (2 * j))))\n",
    "    while abs(M2 - Mo) > 0.00001:\n",
    "        Mo = M2\n",
    "        y = (gj * mub * j * (plambda * Mo + Bext)) / (kb * T)\n",
    "        M2 = Ms * (((2 * j + 1) / (2 * j)) * (1 / (math.tanh(((2 * j + 1) / (2 * j)) * y))) - (1 / (2 * j)) * (\n",
    "                    1 / math.tanh(y / (2 * j))))\n",
    "    listaM.append(M2/mub)\n",
    "    listaBext.append(Bext)"
   ]
  },
  {
   "cell_type": "code",
   "execution_count": 42,
   "id": "7101e75b",
   "metadata": {},
   "outputs": [
    {
     "data": {
      "image/png": "[encoded data removed]",
      "text/plain": [
       "<Figure size 432x288 with 1 Axes>"
      ]
     },
     "metadata": {
      "needs_background": "light"
     },
     "output_type": "display_data"
    }
   ],
   "source": [
    "plt.plot(listaM,listaBext)\n",
    "plt.show()"
   ]
  },
  {
   "cell_type": "markdown",
   "id": "e8fca1b7",
   "metadata": {},
   "source": [
    "# ----------------------------------------------------------------------------\n",
    "\n",
    "# Entropia X Temperatura\n",
    "\n",
    "# ----------------------------------------------------------------------------"
   ]
  },
  {
   "cell_type": "code",
   "execution_count": 43,
   "id": "a63df105",
   "metadata": {},
   "outputs": [],
   "source": [
    "listaT = []\n",
    "listaM = []\n",
    "listaY = []\n",
    "\n",
    "\n",
    "for T in np.arange(1,50,0.01):\n",
    "    y = (gj * mub * j * (plambda * Mo+Bext)) / (kb * T)\n",
    "    M = Ms * (((2 * j + 1) / (2 * j)) * (1 / (math.tanh(((2 * j + 1) / (2 * j)) * y))) - (1 / (2 * j)) * (\n",
    "                1 / math.tanh(y / (2 * j))))\n",
    "    while abs(M - Mo) > 10e-5:\n",
    "        Mo = M\n",
    "        y = (gj * mub * j * (plambda * Mo + Bext)) / (kb * T)\n",
    "        M = Ms * (((2 * j + 1) / (2 * j)) * (1 / (math.tanh(((2 * j + 1) / (2 * j)) * y))) - (1 / (2 * j)) * (\n",
    "                    1 / math.tanh(y / (2 * j))))\n",
    "    listaY.append(y)\n",
    "    listaM.append(M/mub)\n",
    "    listaT.append(T)\n",
    "\n",
    "listaS = []\n",
    "\n",
    "for c in range(0,len(listaY)):\n",
    "    y = listaY[c]\n",
    "    S = kb*(math.log(math.sinh(((2*j+1)/(2 * j)) * y)) - math.log(math.sinh(y / (2 * j))) - y * (((2 * j + 1) / (2 * j)) * (1 / (math.tanh(((2 * j + 1) / (2 * j)) * y))) - (1 / (2 * j)) * (\n",
    "                    1 / math.tanh(y / (2 * j)))))\n",
    "    listaS.append(S)\n"
   ]
  },
  {
   "cell_type": "code",
   "execution_count": 44,
   "id": "5584fa5e",
   "metadata": {},
   "outputs": [
    {
     "data": {
      "image/png": "[encoded data removed]",
      "text/plain": [
       "<Figure size 432x288 with 1 Axes>"
      ]
     },
     "metadata": {
      "needs_background": "light"
     },
     "output_type": "display_data"
    }
   ],
   "source": [
    "plt.plot(listaT,listaS)\n",
    "plt.show()"
   ]
  },
  {
   "cell_type": "markdown",
   "id": "cf726255",
   "metadata": {},
   "source": [
    "# ----------------------------------------------------------------------------\n",
    "\n",
    "# Calor Específico X \n",
    "\n",
    "# ----------------------------------------------------------------------------"
   ]
  },
  {
   "cell_type": "code",
   "execution_count": 45,
   "id": "1e1a4001",
   "metadata": {},
   "outputs": [],
   "source": [
    "kb = 0.086  # em meV/K\n",
    "mub = 0.05788  # em meV/T\n",
    "\n",
    "Bext = 0\n",
    "n = 1  # Número de íons por célula\n",
    "gj = 2  # Fator de landé\n",
    "j = 7 / 2  # Definindo número quântico j.\n",
    "p = 8  # Número de vizinhos próximos - n sei se ta certo\n",
    "Tc = 28\n",
    "Jo = (3*kb*Tc)/(2*p*((gj-1)**2)*j*(j+1))\n",
    "\n",
    "\n",
    "Ms = n * gj * j * mub\n",
    "plambda = (3*kb*Tc)/(n*(mub**2)*((gj)**2)*j*(j+1))\n",
    "\n",
    "\n",
    "T = 28  # temperatura\n",
    "\n",
    "\n",
    "# gdni4al\n",
    "\n",
    "Mo = Ms\n",
    "\n",
    "\n",
    "\n",
    "listaA = []\n",
    "listaB = []\n",
    "listaY = []\n",
    "\n",
    "\n",
    "for T in np.arange(1,50,0.01):\n",
    "    y = (gj * mub * j * (plambda * Mo+Bext)) / (kb * T)\n",
    "    M = Ms * (((2 * j + 1) / (2 * j)) * (1 / (math.tanh(((2 * j + 1) / (2 * j)) * y))) - (1 / (2 * j)) * (\n",
    "                1 / math.tanh(y / (2 * j))))\n",
    "    while abs(M - Mo) > 10e-5:\n",
    "        Mo = M\n",
    "        y = (gj * mub * j * (plambda * Mo + Bext)) / (kb * T)\n",
    "        M = Ms * (((2 * j + 1) / (2 * j)) * (1 / (math.tanh(((2 * j + 1) / (2 * j)) * y))) - (1 / (2 * j)) * (\n",
    "                    1 / math.tanh(y / (2 * j))))\n",
    "    listaY.append(y)\n",
    "    listaB.append(M/mub)\n",
    "    listaA.append(T)\n",
    "\n",
    "listaC = []\n",
    "\n",
    "A = (2 * j + 1) / (2 * j)\n",
    "B = (1/(2*j))\n",
    "\n",
    "for cont in range(0,len(listaB)):\n",
    "    T = listaA[cont]\n",
    "    y = listaY[cont]\n",
    "    c = ((y**2)*kb)*((B**2)*(1/math.sinh(y*B))**2 - A**2*(1/math.sinh(y*A))**2)\n",
    "    listaC.append(c)"
   ]
  },
  {
   "cell_type": "code",
   "execution_count": 46,
   "id": "2dcd3e16",
   "metadata": {},
   "outputs": [
    {
     "data": {
      "image/png": "[encoded data removed]",
      "text/plain": [
       "<Figure size 432x288 with 1 Axes>"
      ]
     },
     "metadata": {
      "needs_background": "light"
     },
     "output_type": "display_data"
    }
   ],
   "source": [
    "plt.plot(listaA,listaC)\n",
    "plt.show()"
   ]
  },
  {
   "cell_type": "code",
   "execution_count": null,
   "id": "f6d693a7",
   "metadata": {},
   "outputs": [],
   "source": []
  }
 ],
 "metadata": {
  "kernelspec": {
   "display_name": "Python 3 (ipykernel)",
   "language": "python",
   "name": "python3"
  },
  "language_info": {
   "codemirror_mode": {
    "name": "ipython",
    "version": 3
   },
   "file_extension": ".py",
   "mimetype": "text/x-python",
   "name": "python",
   "nbconvert_exporter": "python",
   "pygments_lexer": "ipython3",
   "version": "3.9.7"
  }
 },
 "nbformat": 4,
 "nbformat_minor": 5
}
